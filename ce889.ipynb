{
 "cells": [
  {
   "cell_type": "code",
   "execution_count": 1,
   "id": "d02c0a89",
   "metadata": {
    "_cell_guid": "b1076dfc-b9ad-4769-8c92-a6c4dae69d19",
    "_uuid": "8f2839f25d086af736a60e9eeb907d3b93b6e0e5",
    "execution": {
     "iopub.execute_input": "2021-08-01T11:32:30.961710Z",
     "iopub.status.busy": "2021-08-01T11:32:30.959775Z",
     "iopub.status.idle": "2021-08-01T11:32:34.471793Z",
     "shell.execute_reply": "2021-08-01T11:32:34.470548Z",
     "shell.execute_reply.started": "2021-08-01T10:28:50.768459Z"
    },
    "papermill": {
     "duration": 3.529067,
     "end_time": "2021-08-01T11:32:34.472002",
     "exception": false,
     "start_time": "2021-08-01T11:32:30.942935",
     "status": "completed"
    },
    "tags": []
   },
   "outputs": [],
   "source": [
    "import numpy as np # linear algebra\n",
    "import torch\n",
    "import torch.nn as nn\n",
    "import pandas as pd\n",
    "\n",
    "from os.path import dirname, join as pjoin\n",
    "import scipy.io as sio\n",
    "mat_contents = sio.loadmat('../input/assignment889/WLDataAll.mat')"
   ]
  },
  {
   "cell_type": "code",
   "execution_count": 2,
   "id": "eef539fd",
   "metadata": {
    "execution": {
     "iopub.execute_input": "2021-08-01T11:32:34.513735Z",
     "iopub.status.busy": "2021-08-01T11:32:34.512110Z",
     "iopub.status.idle": "2021-08-01T11:32:34.579203Z",
     "shell.execute_reply": "2021-08-01T11:32:34.579851Z",
     "shell.execute_reply.started": "2021-08-01T10:28:54.557782Z"
    },
    "papermill": {
     "duration": 0.095275,
     "end_time": "2021-08-01T11:32:34.580036",
     "exception": false,
     "start_time": "2021-08-01T11:32:34.484761",
     "status": "completed"
    },
    "tags": []
   },
   "outputs": [
    {
     "name": "stdout",
     "output_type": "stream",
     "text": [
      "(360, 31744)\n",
      "(360, 2)\n"
     ]
    }
   ],
   "source": [
    "X = mat_contents['data']\n",
    "# y = mat_contents['label']\n",
    "mat_contents['label'] = mat_contents['label'].reshape(360)\n",
    "\n",
    "y_convert = pd.get_dummies(mat_contents['label'])\n",
    "# X = X.reshape(62*512,360)\n",
    "X = X.reshape(360, 62*512)\n",
    "\n",
    "y_convert = np.array(y_convert)\n",
    "# y = y_convert.reshape(2,360)\n",
    "y = y_convert\n",
    "\n",
    "print(X.shape)\n",
    "print(y.shape)"
   ]
  },
  {
   "cell_type": "code",
   "execution_count": 3,
   "id": "b5fbf9c9",
   "metadata": {
    "execution": {
     "iopub.execute_input": "2021-08-01T11:32:34.607902Z",
     "iopub.status.busy": "2021-08-01T11:32:34.606937Z",
     "iopub.status.idle": "2021-08-01T11:32:35.551734Z",
     "shell.execute_reply": "2021-08-01T11:32:35.552634Z",
     "shell.execute_reply.started": "2021-08-01T10:28:54.652661Z"
    },
    "papermill": {
     "duration": 0.962126,
     "end_time": "2021-08-01T11:32:35.552923",
     "exception": false,
     "start_time": "2021-08-01T11:32:34.590797",
     "status": "completed"
    },
    "tags": []
   },
   "outputs": [
    {
     "name": "stdout",
     "output_type": "stream",
     "text": [
      "x_train shape (288, 31744)\n",
      "x_test shape (72, 31744)\n",
      "y_train shape (288, 2)\n",
      "y_test shape (72, 2)\n"
     ]
    }
   ],
   "source": [
    "from sklearn.model_selection import train_test_split\n",
    "X_train, X_test, y_train, y_test = train_test_split(X, y, test_size=0.2, random_state=0)\n",
    "print(\"x_train shape\",X_train.shape)\n",
    "print(\"x_test shape\",X_test.shape)\n",
    "print(\"y_train shape\",y_train.shape)\n",
    "print(\"y_test shape\",y_test.shape)"
   ]
  },
  {
   "cell_type": "code",
   "execution_count": 4,
   "id": "dfd82452",
   "metadata": {
    "execution": {
     "iopub.execute_input": "2021-08-01T11:32:35.582168Z",
     "iopub.status.busy": "2021-08-01T11:32:35.581133Z",
     "iopub.status.idle": "2021-08-01T11:32:35.587076Z",
     "shell.execute_reply": "2021-08-01T11:32:35.588143Z",
     "shell.execute_reply.started": "2021-08-01T10:28:55.512752Z"
    },
    "papermill": {
     "duration": 0.023712,
     "end_time": "2021-08-01T11:32:35.588410",
     "exception": false,
     "start_time": "2021-08-01T11:32:35.564698",
     "status": "completed"
    },
    "tags": []
   },
   "outputs": [
    {
     "name": "stdout",
     "output_type": "stream",
     "text": [
      "x_train shape (31744, 288)\n",
      "x_test shape (31744, 72)\n",
      "y_train shape (2, 288)\n",
      "y_test shape (2, 72)\n"
     ]
    }
   ],
   "source": [
    "X_train_new = X_train.T\n",
    "X_test_new = X_test.T\n",
    "y_train_new = y_train.T\n",
    "y_test_new = y_test.T\n",
    "print(\"x_train shape\",X_train_new.shape)\n",
    "print(\"x_test shape\",X_test_new.shape)\n",
    "print(\"y_train shape\",y_train_new.shape)\n",
    "print(\"y_test shape\",y_test_new.shape)"
   ]
  },
  {
   "cell_type": "code",
   "execution_count": 5,
   "id": "74ce494d",
   "metadata": {
    "execution": {
     "iopub.execute_input": "2021-08-01T11:32:35.615629Z",
     "iopub.status.busy": "2021-08-01T11:32:35.614648Z",
     "iopub.status.idle": "2021-08-01T11:32:35.618094Z",
     "shell.execute_reply": "2021-08-01T11:32:35.617536Z",
     "shell.execute_reply.started": "2021-08-01T10:28:55.522626Z"
    },
    "papermill": {
     "duration": 0.018722,
     "end_time": "2021-08-01T11:32:35.618215",
     "exception": false,
     "start_time": "2021-08-01T11:32:35.599493",
     "status": "completed"
    },
    "tags": []
   },
   "outputs": [],
   "source": [
    "def sigmoid(z):\n",
    "        return 1/(1+np.exp(-z)) \n",
    "\n",
    "def relu(Z):\n",
    "    return np.maximum(0, Z)\n",
    "\n",
    "def sigmoid_der(x):\n",
    "    return sigmoid(x) *(1-sigmoid (x))"
   ]
  },
  {
   "cell_type": "code",
   "execution_count": 6,
   "id": "e9360357",
   "metadata": {
    "execution": {
     "iopub.execute_input": "2021-08-01T11:32:35.651646Z",
     "iopub.status.busy": "2021-08-01T11:32:35.650702Z",
     "iopub.status.idle": "2021-08-01T11:32:35.653651Z",
     "shell.execute_reply": "2021-08-01T11:32:35.654216Z",
     "shell.execute_reply.started": "2021-08-01T10:28:55.532278Z"
    },
    "papermill": {
     "duration": 0.025393,
     "end_time": "2021-08-01T11:32:35.654371",
     "exception": false,
     "start_time": "2021-08-01T11:32:35.628978",
     "status": "completed"
    },
    "tags": []
   },
   "outputs": [],
   "source": [
    "class NeuralNetwork:\n",
    "    def __init__(self,input_size, output):\n",
    "        self.INPUT_LAYER_SIZE = input_size\n",
    "        self.OUTPUT_LAYER_SIZE = output\n",
    "        \n",
    "        self.Wh = np.full((self.INPUT_LAYER_SIZE, self.OUTPUT_LAYER_SIZE), 0)\n",
    "        self.Bh = np.full((self.OUTPUT_LAYER_SIZE, 1), 0)\n",
    "\n",
    "    \n",
    "    \n",
    "    def feed_forward(self, X):\n",
    "        Zh = np.dot(self.Wh.T,X) + self.Bh\n",
    "        H = sigmoid(Zh)\n",
    "        return H\n",
    "    \n",
    "    def backward(self, X, y, yhat):\n",
    "        o_error = yhat - y \n",
    "        dcost_wo = (1/self.INPUT_LAYER_SIZE) * X.dot(o_error.T)\n",
    "        \n",
    "        bias = (1/self.INPUT_LAYER_SIZE) * o_error.sum()\n",
    "        \n",
    "        # Update Weights ================\n",
    "        self.Wh = self.Wh - 0.01 * dcost_wo\n",
    "        self.Bh = self.Bh - 0.01 * bias\n",
    "        \n",
    "        return o_error\n",
    "    \n",
    "    \n",
    "    def compute_accuracy(self, x_val, y_val):\n",
    "        predictions = []\n",
    "        total = 0\n",
    "        output = self.feed_forward(x_val)\n",
    "        pred = (output > 0.5).astype(int)\n",
    "        acc = np.sum(pred == y_val)/(72*2)\n",
    "        return acc"
   ]
  },
  {
   "cell_type": "code",
   "execution_count": 7,
   "id": "42f52cf0",
   "metadata": {
    "execution": {
     "iopub.execute_input": "2021-08-01T11:32:35.682820Z",
     "iopub.status.busy": "2021-08-01T11:32:35.681399Z",
     "iopub.status.idle": "2021-08-01T11:32:35.865357Z",
     "shell.execute_reply": "2021-08-01T11:32:35.866495Z",
     "shell.execute_reply.started": "2021-08-01T10:28:55.545736Z"
    },
    "papermill": {
     "duration": 0.202119,
     "end_time": "2021-08-01T11:32:35.866785",
     "exception": false,
     "start_time": "2021-08-01T11:32:35.664666",
     "status": "completed"
    },
    "tags": []
   },
   "outputs": [
    {
     "name": "stdout",
     "output_type": "stream",
     "text": [
      "0.0\n",
      "Accuracy:  16.666666666666664 %\n"
     ]
    }
   ],
   "source": [
    "a = NeuralNetwork(31744,2)\n",
    "for iteration in range(3000):\n",
    "    o = a.feed_forward(np.array(X_train_new))\n",
    "    error_out = a.backward(np.array(X_train_new), np.array(y_train_new), o)\n",
    "    print(error_out.sum())\n",
    "    accuracy = a.compute_accuracy(X_test_new, y_test_new)\n",
    "    print('Accuracy: ',accuracy * 100,'%')\n",
    "    if(error_out.sum() <= 0.0001 ):\n",
    "        break\n",
    "    print(iteration)\n",
    "    "
   ]
  },
  {
   "cell_type": "code",
   "execution_count": 8,
   "id": "577395a5",
   "metadata": {
    "execution": {
     "iopub.execute_input": "2021-08-01T11:32:35.919205Z",
     "iopub.status.busy": "2021-08-01T11:32:35.917930Z",
     "iopub.status.idle": "2021-08-01T11:32:41.072377Z",
     "shell.execute_reply": "2021-08-01T11:32:41.071645Z",
     "shell.execute_reply.started": "2021-08-01T10:29:46.400865Z"
    },
    "papermill": {
     "duration": 5.184009,
     "end_time": "2021-08-01T11:32:41.072530",
     "exception": false,
     "start_time": "2021-08-01T11:32:35.888521",
     "status": "completed"
    },
    "tags": []
   },
   "outputs": [],
   "source": [
    "from keras.wrappers.scikit_learn import KerasClassifier\n",
    "from keras.models import Sequential\n",
    "from keras.layers import Dense, Dropout, Flatten, BatchNormalization, AveragePooling2D, Conv2D\n",
    "from sklearn.model_selection import cross_val_score, cross_validate, KFold, StratifiedKFold, cross_val_predict\n",
    "from keras import layers,models\n",
    "from sklearn.metrics import multilabel_confusion_matrix, confusion_matrix"
   ]
  },
  {
   "cell_type": "code",
   "execution_count": 9,
   "id": "e95989e7",
   "metadata": {
    "execution": {
     "iopub.execute_input": "2021-08-01T11:32:41.102105Z",
     "iopub.status.busy": "2021-08-01T11:32:41.101371Z",
     "iopub.status.idle": "2021-08-01T11:32:58.016396Z",
     "shell.execute_reply": "2021-08-01T11:32:58.017382Z",
     "shell.execute_reply.started": "2021-08-01T11:31:00.431916Z"
    },
    "papermill": {
     "duration": 16.933632,
     "end_time": "2021-08-01T11:32:58.017645",
     "exception": false,
     "start_time": "2021-08-01T11:32:41.084013",
     "status": "completed"
    },
    "tags": []
   },
   "outputs": [
    {
     "name": "stdout",
     "output_type": "stream",
     "text": [
      "0.5\n"
     ]
    }
   ],
   "source": [
    "from sklearn.neighbors import KNeighborsClassifier\n",
    "neigh = KNeighborsClassifier(n_neighbors=10)\n",
    "neigh.fit(X_train, y_train)\n",
    "y_new=np.argmax(y,axis=1)\n",
    "kfold = KFold(n_splits=5, shuffle=True)\n",
    "accuracies = cross_val_score(estimator = neigh,\n",
    "                             X = X,\n",
    "                             y = y_new,\n",
    "                             cv=kfold, scoring = 'accuracy')\n",
    "print(accuracies.mean())"
   ]
  },
  {
   "cell_type": "code",
   "execution_count": 10,
   "id": "0ccbd080",
   "metadata": {
    "execution": {
     "iopub.execute_input": "2021-08-01T11:32:58.055219Z",
     "iopub.status.busy": "2021-08-01T11:32:58.054262Z",
     "iopub.status.idle": "2021-08-01T11:33:14.224612Z",
     "shell.execute_reply": "2021-08-01T11:33:14.223690Z",
     "shell.execute_reply.started": "2021-08-01T11:13:28.257655Z"
    },
    "papermill": {
     "duration": 16.193254,
     "end_time": "2021-08-01T11:33:14.224759",
     "exception": false,
     "start_time": "2021-08-01T11:32:58.031505",
     "status": "completed"
    },
    "tags": []
   },
   "outputs": [
    {
     "name": "stdout",
     "output_type": "stream",
     "text": [
      "Epoch 1/50\n",
      "5/5 [==============================] - 2s 8ms/step - loss: 0.4847 - accuracy: 0.4956\n",
      "Epoch 2/50\n",
      "5/5 [==============================] - 0s 7ms/step - loss: 0.4374 - accuracy: 0.5269\n",
      "Epoch 3/50\n",
      "5/5 [==============================] - 0s 7ms/step - loss: 0.4572 - accuracy: 0.5211\n",
      "Epoch 4/50\n",
      "5/5 [==============================] - 0s 7ms/step - loss: 0.4472 - accuracy: 0.5365\n",
      "Epoch 5/50\n",
      "5/5 [==============================] - 0s 7ms/step - loss: 0.4370 - accuracy: 0.5443\n",
      "Epoch 6/50\n",
      "5/5 [==============================] - 0s 8ms/step - loss: 0.4620 - accuracy: 0.5343\n",
      "Epoch 7/50\n",
      "5/5 [==============================] - 0s 7ms/step - loss: 0.4116 - accuracy: 0.5743\n",
      "Epoch 8/50\n",
      "5/5 [==============================] - 0s 7ms/step - loss: 0.4685 - accuracy: 0.5232\n",
      "Epoch 9/50\n",
      "5/5 [==============================] - 0s 7ms/step - loss: 0.4526 - accuracy: 0.5396\n",
      "Epoch 10/50\n",
      "5/5 [==============================] - 0s 7ms/step - loss: 0.3924 - accuracy: 0.6022\n",
      "Epoch 11/50\n",
      "5/5 [==============================] - 0s 7ms/step - loss: 0.3857 - accuracy: 0.6132\n",
      "Epoch 12/50\n",
      "5/5 [==============================] - 0s 7ms/step - loss: 0.4207 - accuracy: 0.5772\n",
      "Epoch 13/50\n",
      "5/5 [==============================] - 0s 7ms/step - loss: 0.3887 - accuracy: 0.6060\n",
      "Epoch 14/50\n",
      "5/5 [==============================] - 0s 6ms/step - loss: 0.4410 - accuracy: 0.5503\n",
      "Epoch 15/50\n",
      "5/5 [==============================] - 0s 6ms/step - loss: 0.4386 - accuracy: 0.5539\n",
      "Epoch 16/50\n",
      "5/5 [==============================] - 0s 7ms/step - loss: 0.4336 - accuracy: 0.5593\n",
      "Epoch 17/50\n",
      "5/5 [==============================] - 0s 7ms/step - loss: 0.4323 - accuracy: 0.5663\n",
      "Epoch 18/50\n",
      "5/5 [==============================] - 0s 6ms/step - loss: 0.4334 - accuracy: 0.5628\n",
      "Epoch 19/50\n",
      "5/5 [==============================] - 0s 7ms/step - loss: 0.4265 - accuracy: 0.5723\n",
      "Epoch 20/50\n",
      "5/5 [==============================] - 0s 6ms/step - loss: 0.4134 - accuracy: 0.5707\n",
      "Epoch 21/50\n",
      "5/5 [==============================] - 0s 6ms/step - loss: 0.3883 - accuracy: 0.5971\n",
      "Epoch 22/50\n",
      "5/5 [==============================] - 0s 6ms/step - loss: 0.4106 - accuracy: 0.5863\n",
      "Epoch 23/50\n",
      "5/5 [==============================] - 0s 6ms/step - loss: 0.3682 - accuracy: 0.6173\n",
      "Epoch 24/50\n",
      "5/5 [==============================] - 0s 6ms/step - loss: 0.4705 - accuracy: 0.5251\n",
      "Epoch 25/50\n",
      "5/5 [==============================] - 0s 6ms/step - loss: 0.4360 - accuracy: 0.5616\n",
      "Epoch 26/50\n",
      "5/5 [==============================] - 0s 6ms/step - loss: 0.4237 - accuracy: 0.5660\n",
      "Epoch 27/50\n",
      "5/5 [==============================] - 0s 7ms/step - loss: 0.4188 - accuracy: 0.5739\n",
      "Epoch 28/50\n",
      "5/5 [==============================] - 0s 6ms/step - loss: 0.4570 - accuracy: 0.5340\n",
      "Epoch 29/50\n",
      "5/5 [==============================] - 0s 7ms/step - loss: 0.3919 - accuracy: 0.6025\n",
      "Epoch 30/50\n",
      "5/5 [==============================] - 0s 7ms/step - loss: 0.4282 - accuracy: 0.5693\n",
      "Epoch 31/50\n",
      "5/5 [==============================] - 0s 6ms/step - loss: 0.3910 - accuracy: 0.6044\n",
      "Epoch 32/50\n",
      "5/5 [==============================] - 0s 6ms/step - loss: 0.4092 - accuracy: 0.5828\n",
      "Epoch 33/50\n",
      "5/5 [==============================] - 0s 7ms/step - loss: 0.3742 - accuracy: 0.6249\n",
      "Epoch 34/50\n",
      "5/5 [==============================] - 0s 6ms/step - loss: 0.3675 - accuracy: 0.6287\n",
      "Epoch 35/50\n",
      "5/5 [==============================] - 0s 6ms/step - loss: 0.3990 - accuracy: 0.5958\n",
      "Epoch 36/50\n",
      "5/5 [==============================] - 0s 7ms/step - loss: 0.4233 - accuracy: 0.5684\n",
      "Epoch 37/50\n",
      "5/5 [==============================] - 0s 6ms/step - loss: 0.3776 - accuracy: 0.6162\n",
      "Epoch 38/50\n",
      "5/5 [==============================] - 0s 6ms/step - loss: 0.3947 - accuracy: 0.6025\n",
      "Epoch 39/50\n",
      "5/5 [==============================] - 0s 6ms/step - loss: 0.4233 - accuracy: 0.5707\n",
      "Epoch 40/50\n",
      "5/5 [==============================] - 0s 6ms/step - loss: 0.3641 - accuracy: 0.6272\n",
      "Epoch 41/50\n",
      "5/5 [==============================] - 0s 7ms/step - loss: 0.4155 - accuracy: 0.5739\n",
      "Epoch 42/50\n",
      "5/5 [==============================] - 0s 6ms/step - loss: 0.3834 - accuracy: 0.6149\n",
      "Epoch 43/50\n",
      "5/5 [==============================] - 0s 7ms/step - loss: 0.4306 - accuracy: 0.5632\n",
      "Epoch 44/50\n",
      "5/5 [==============================] - 0s 9ms/step - loss: 0.3875 - accuracy: 0.6094\n",
      "Epoch 45/50\n",
      "5/5 [==============================] - 0s 7ms/step - loss: 0.4141 - accuracy: 0.5838\n",
      "Epoch 46/50\n",
      "5/5 [==============================] - 0s 7ms/step - loss: 0.3934 - accuracy: 0.6098\n",
      "Epoch 47/50\n",
      "5/5 [==============================] - 0s 6ms/step - loss: 0.3778 - accuracy: 0.6114\n",
      "Epoch 48/50\n",
      "5/5 [==============================] - 0s 7ms/step - loss: 0.4441 - accuracy: 0.5412\n",
      "Epoch 49/50\n",
      "5/5 [==============================] - 0s 7ms/step - loss: 0.4190 - accuracy: 0.5686\n",
      "Epoch 50/50\n",
      "5/5 [==============================] - 0s 5ms/step - loss: 0.4758 - accuracy: 0.5145\n",
      "9/9 [==============================] - 1s 4ms/step - loss: 0.4368 - accuracy: 0.4828\n",
      "3/3 [==============================] - 0s 3ms/step\n"
     ]
    },
    {
     "name": "stderr",
     "output_type": "stream",
     "text": [
      "/opt/conda/lib/python3.7/site-packages/tensorflow/python/keras/engine/sequential.py:450: UserWarning: `model.predict_classes()` is deprecated and will be removed after 2021-01-01. Please use instead:* `np.argmax(model.predict(x), axis=-1)`,   if your model does multi-class classification   (e.g. if it uses a `softmax` last-layer activation).* `(model.predict(x) > 0.5).astype(\"int32\")`,   if your model does binary classification   (e.g. if it uses a `sigmoid` last-layer activation).\n",
      "  warnings.warn('`model.predict_classes()` is deprecated and '\n"
     ]
    },
    {
     "name": "stdout",
     "output_type": "stream",
     "text": [
      "9/9 [==============================] - 1s 4ms/step - loss: 0.4555 - accuracy: 0.4905\n",
      "3/3 [==============================] - 0s 3ms/step\n",
      "9/9 [==============================] - 1s 4ms/step - loss: 0.4766 - accuracy: 0.5171\n",
      "3/3 [==============================] - 0s 3ms/step\n",
      "9/9 [==============================] - 1s 4ms/step - loss: 0.4760 - accuracy: 0.5177\n",
      "3/3 [==============================] - 0s 3ms/step\n",
      "9/9 [==============================] - 1s 4ms/step - loss: 0.4358 - accuracy: 0.5212\n",
      "3/3 [==============================] - 0s 3ms/step\n",
      "0.5166666666666666\n"
     ]
    }
   ],
   "source": [
    "def make_classifier():\n",
    "    model = models.Sequential()\n",
    "    model.add(layers.Dense(128, activation='relu', input_dim=31744))\n",
    "    model.add(layers.Dropout(rate = 0.1))\n",
    "    model.add(layers.Dense(64, activation='relu'))\n",
    "    model.add(layers.Dropout(rate = 0.1))\n",
    "    model.add(layers.Dense(32, activation='relu'))\n",
    "    model.add(layers.Dropout(rate = 0.1))\n",
    "    model.add(layers.Dense(16, activation='relu'))\n",
    "    model.add(layers.Dropout(rate = 0.2))\n",
    "    model.add(layers.Dense(8, activation='relu'))\n",
    "    model.add(layers.Dropout(rate = 0.2))\n",
    "    model.add(Flatten())\n",
    "    model.add(layers.Dense(2, activation='softmax'))\n",
    "\n",
    "\n",
    "    model.compile(optimizer='adam', \n",
    "                  loss='mse',\n",
    "                  metrics=['accuracy'])\n",
    "    return model\n",
    "\n",
    "\n",
    "# Define the K-fold Cross Validator\n",
    "kfold = KFold(n_splits=5, shuffle=True)\n",
    "classifier = KerasClassifier(build_fn=make_classifier, verbose=1)\n",
    "\n",
    "# Fit data to model\n",
    "classifier.fit(X_train, y_train,batch_size=64, epochs = 50)\n",
    "\n",
    "\n",
    "y_new=np.argmax(y,axis=1)\n",
    "\n",
    "accuracies = cross_val_score(estimator = classifier,\n",
    "                             X = X,\n",
    "                             y = y_new,\n",
    "                             cv=kfold, scoring = 'accuracy')\n",
    "print(accuracies.mean())\n"
   ]
  }
 ],
 "metadata": {
  "kernelspec": {
   "display_name": "Python 3",
   "language": "python",
   "name": "python3"
  },
  "language_info": {
   "codemirror_mode": {
    "name": "ipython",
    "version": 3
   },
   "file_extension": ".py",
   "mimetype": "text/x-python",
   "name": "python",
   "nbconvert_exporter": "python",
   "pygments_lexer": "ipython3",
   "version": "3.7.10"
  },
  "papermill": {
   "default_parameters": {},
   "duration": 54.840992,
   "end_time": "2021-08-01T11:33:17.464309",
   "environment_variables": {},
   "exception": null,
   "input_path": "__notebook__.ipynb",
   "output_path": "__notebook__.ipynb",
   "parameters": {},
   "start_time": "2021-08-01T11:32:22.623317",
   "version": "2.3.3"
  }
 },
 "nbformat": 4,
 "nbformat_minor": 5
}
